{
 "cells": [
  {
   "cell_type": "code",
   "execution_count": null,
   "metadata": {},
   "outputs": [
    {
     "name": "stderr",
     "output_type": "stream",
     "text": [
      "/var/folders/15/1m9vwy156194hh305hlh4b4w0000gn/T/ipykernel_88811/242338545.py:3: DtypeWarning: Columns (74,75,77) have mixed types. Specify dtype option on import or set low_memory=False.\n",
      "  vehicles_df = pd.read_csv('data/vehicles.csv')\n"
     ]
    }
   ],
   "source": [
    "import pandas as pd\n",
    "\n",
    "vehicles_df = pd.read_csv('data/vehicles.csv')\n",
    "included_models_df = pd.read_excel('data/vehiclestoinclude.xlsx')\n",
    "\n",
    "vehicles_df = vehicles_df[['year','make', 'model', 'comb08', 'combE', 'fuelType', 'id']]\n",
    "vehicles_df['running_cost_of_ownership'] = 0.00\n",
    "vehicles_df['running_emissions'] = 0.00\n",
    "\n",
    "limited_vehicles_df = pd.merge(included_models_df, vehicles_df, how='left', left_on=['epa_id'], right_on=['id'])\n",
    "\n",
    "limited_vehicles_df.to_csv('data/vehicledata.csv', index=False)"
   ]
  }
 ],
 "metadata": {
  "kernelspec": {
   "display_name": "base",
   "language": "python",
   "name": "python3"
  },
  "language_info": {
   "codemirror_mode": {
    "name": "ipython",
    "version": 3
   },
   "file_extension": ".py",
   "mimetype": "text/x-python",
   "name": "python",
   "nbconvert_exporter": "python",
   "pygments_lexer": "ipython3",
   "version": "3.11.4"
  }
 },
 "nbformat": 4,
 "nbformat_minor": 2
}
